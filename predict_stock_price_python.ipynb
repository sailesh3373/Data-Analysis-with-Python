{
  "nbformat": 4,
  "nbformat_minor": 0,
  "metadata": {
    "colab": {
      "name": "Untitled0.ipynb",
      "provenance": [],
      "collapsed_sections": [],
      "authorship_tag": "ABX9TyN27ZiZE9bPrOqs8aNZQfqB",
      "include_colab_link": true
    },
    "kernelspec": {
      "name": "python3",
      "display_name": "Python 3"
    },
    "language_info": {
      "name": "python"
    }
  },
  "cells": [
    {
      "cell_type": "markdown",
      "metadata": {
        "id": "view-in-github",
        "colab_type": "text"
      },
      "source": [
        "<a href=\"https://colab.research.google.com/github/sailesh3373/Data-Analysis-with-Python/blob/main/predict_stock_price_python.ipynb\" target=\"_parent\"><img src=\"https://colab.research.google.com/assets/colab-badge.svg\" alt=\"Open In Colab\"/></a>"
      ]
    },
    {
      "cell_type": "code",
      "metadata": {
        "id": "NxT_6b0e5Pzd"
      },
      "source": [
        "# This program uses a artificial recurrent neural network called Long Short Term Memory(LSTM)\n",
        "# to predict the closing stock price of Verde Agritech PLC(NPK)using the past 60 days closing price"
      ],
      "execution_count": 24,
      "outputs": []
    },
    {
      "cell_type": "code",
      "metadata": {
        "id": "rWdlU0a8Ioa_"
      },
      "source": [
        "# Import the libraries\n",
        "import math\n",
        "import pandas_datareader as web\n",
        "import pandas as pd\n",
        "import numpy as np\n",
        "from sklearn.preprocessing import MinMaxScaler\n",
        "from keras.models import Sequential\n",
        "from keras.layers import Dense, LSTM\n",
        "import matplotlib.pyplot as plt\n",
        "plt.style.use('fivethirtyeight')"
      ],
      "execution_count": 25,
      "outputs": []
    },
    {
      "cell_type": "code",
      "metadata": {
        "colab": {
          "base_uri": "https://localhost:8080/",
          "height": 455
        },
        "id": "EmGLNVYkJlnY",
        "outputId": "c0e5aa9b-515b-4710-8020-e41b7f3e7bbc"
      },
      "source": [
        "# Get the stock value\n",
        "df = web.DataReader('NPK', data_source='yahoo', start='2016-01-01', end='2021-06-22')\n",
        "# Show the data\n",
        "df\n"
      ],
      "execution_count": 26,
      "outputs": [
        {
          "output_type": "execute_result",
          "data": {
            "text/html": [
              "<div>\n",
              "<style scoped>\n",
              "    .dataframe tbody tr th:only-of-type {\n",
              "        vertical-align: middle;\n",
              "    }\n",
              "\n",
              "    .dataframe tbody tr th {\n",
              "        vertical-align: top;\n",
              "    }\n",
              "\n",
              "    .dataframe thead th {\n",
              "        text-align: right;\n",
              "    }\n",
              "</style>\n",
              "<table border=\"1\" class=\"dataframe\">\n",
              "  <thead>\n",
              "    <tr style=\"text-align: right;\">\n",
              "      <th></th>\n",
              "      <th>High</th>\n",
              "      <th>Low</th>\n",
              "      <th>Open</th>\n",
              "      <th>Close</th>\n",
              "      <th>Volume</th>\n",
              "      <th>Adj Close</th>\n",
              "    </tr>\n",
              "    <tr>\n",
              "      <th>Date</th>\n",
              "      <th></th>\n",
              "      <th></th>\n",
              "      <th></th>\n",
              "      <th></th>\n",
              "      <th></th>\n",
              "      <th></th>\n",
              "    </tr>\n",
              "  </thead>\n",
              "  <tbody>\n",
              "    <tr>\n",
              "      <th>2016-01-04</th>\n",
              "      <td>81.970001</td>\n",
              "      <td>78.230003</td>\n",
              "      <td>81.970001</td>\n",
              "      <td>79.330002</td>\n",
              "      <td>46900.0</td>\n",
              "      <td>55.760872</td>\n",
              "    </tr>\n",
              "    <tr>\n",
              "      <th>2016-01-05</th>\n",
              "      <td>80.889999</td>\n",
              "      <td>78.080002</td>\n",
              "      <td>79.330002</td>\n",
              "      <td>78.910004</td>\n",
              "      <td>36200.0</td>\n",
              "      <td>55.465656</td>\n",
              "    </tr>\n",
              "    <tr>\n",
              "      <th>2016-01-06</th>\n",
              "      <td>80.589996</td>\n",
              "      <td>77.529999</td>\n",
              "      <td>78.320000</td>\n",
              "      <td>78.330002</td>\n",
              "      <td>32800.0</td>\n",
              "      <td>55.057972</td>\n",
              "    </tr>\n",
              "    <tr>\n",
              "      <th>2016-01-07</th>\n",
              "      <td>77.550003</td>\n",
              "      <td>75.430000</td>\n",
              "      <td>76.669998</td>\n",
              "      <td>76.580002</td>\n",
              "      <td>33200.0</td>\n",
              "      <td>53.827904</td>\n",
              "    </tr>\n",
              "    <tr>\n",
              "      <th>2016-01-08</th>\n",
              "      <td>79.199997</td>\n",
              "      <td>75.440002</td>\n",
              "      <td>76.669998</td>\n",
              "      <td>76.010002</td>\n",
              "      <td>42700.0</td>\n",
              "      <td>53.427250</td>\n",
              "    </tr>\n",
              "    <tr>\n",
              "      <th>...</th>\n",
              "      <td>...</td>\n",
              "      <td>...</td>\n",
              "      <td>...</td>\n",
              "      <td>...</td>\n",
              "      <td>...</td>\n",
              "      <td>...</td>\n",
              "    </tr>\n",
              "    <tr>\n",
              "      <th>2021-06-16</th>\n",
              "      <td>104.080002</td>\n",
              "      <td>102.459999</td>\n",
              "      <td>103.669998</td>\n",
              "      <td>102.620003</td>\n",
              "      <td>13800.0</td>\n",
              "      <td>102.620003</td>\n",
              "    </tr>\n",
              "    <tr>\n",
              "      <th>2021-06-17</th>\n",
              "      <td>102.220001</td>\n",
              "      <td>100.269997</td>\n",
              "      <td>102.220001</td>\n",
              "      <td>101.000000</td>\n",
              "      <td>10500.0</td>\n",
              "      <td>101.000000</td>\n",
              "    </tr>\n",
              "    <tr>\n",
              "      <th>2021-06-18</th>\n",
              "      <td>99.620003</td>\n",
              "      <td>97.029999</td>\n",
              "      <td>99.019997</td>\n",
              "      <td>97.690002</td>\n",
              "      <td>57500.0</td>\n",
              "      <td>97.690002</td>\n",
              "    </tr>\n",
              "    <tr>\n",
              "      <th>2021-06-21</th>\n",
              "      <td>100.519997</td>\n",
              "      <td>98.379997</td>\n",
              "      <td>98.610001</td>\n",
              "      <td>100.230003</td>\n",
              "      <td>19900.0</td>\n",
              "      <td>100.230003</td>\n",
              "    </tr>\n",
              "    <tr>\n",
              "      <th>2021-06-22</th>\n",
              "      <td>100.584999</td>\n",
              "      <td>98.669998</td>\n",
              "      <td>99.330002</td>\n",
              "      <td>99.080002</td>\n",
              "      <td>8458.0</td>\n",
              "      <td>99.080002</td>\n",
              "    </tr>\n",
              "  </tbody>\n",
              "</table>\n",
              "<p>1377 rows × 6 columns</p>\n",
              "</div>"
            ],
            "text/plain": [
              "                  High         Low        Open       Close   Volume   Adj Close\n",
              "Date                                                                           \n",
              "2016-01-04   81.970001   78.230003   81.970001   79.330002  46900.0   55.760872\n",
              "2016-01-05   80.889999   78.080002   79.330002   78.910004  36200.0   55.465656\n",
              "2016-01-06   80.589996   77.529999   78.320000   78.330002  32800.0   55.057972\n",
              "2016-01-07   77.550003   75.430000   76.669998   76.580002  33200.0   53.827904\n",
              "2016-01-08   79.199997   75.440002   76.669998   76.010002  42700.0   53.427250\n",
              "...                ...         ...         ...         ...      ...         ...\n",
              "2021-06-16  104.080002  102.459999  103.669998  102.620003  13800.0  102.620003\n",
              "2021-06-17  102.220001  100.269997  102.220001  101.000000  10500.0  101.000000\n",
              "2021-06-18   99.620003   97.029999   99.019997   97.690002  57500.0   97.690002\n",
              "2021-06-21  100.519997   98.379997   98.610001  100.230003  19900.0  100.230003\n",
              "2021-06-22  100.584999   98.669998   99.330002   99.080002   8458.0   99.080002\n",
              "\n",
              "[1377 rows x 6 columns]"
            ]
          },
          "metadata": {
            "tags": []
          },
          "execution_count": 26
        }
      ]
    },
    {
      "cell_type": "code",
      "metadata": {
        "colab": {
          "base_uri": "https://localhost:8080/"
        },
        "id": "d6tNZH0wLKR6",
        "outputId": "df8a4b18-78cc-44ac-a6d5-c06c06fbd339"
      },
      "source": [
        "# Display the size of data\n",
        "df.shape"
      ],
      "execution_count": 27,
      "outputs": [
        {
          "output_type": "execute_result",
          "data": {
            "text/plain": [
              "(1377, 6)"
            ]
          },
          "metadata": {
            "tags": []
          },
          "execution_count": 27
        }
      ]
    },
    {
      "cell_type": "code",
      "metadata": {
        "colab": {
          "base_uri": "https://localhost:8080/",
          "height": 537
        },
        "id": "fGGq7dyuLQEj",
        "outputId": "e2995a48-3849-4d1f-be0c-767107dc566a"
      },
      "source": [
        "# Visualizing the stock closing price\n",
        "plt.figure(figsize=(16, 8))\n",
        "plt.title='Closing price history of Verde Agritech PLC(NPK)'\n",
        "plt.plot(df['Close'])\n",
        "plt.xlabel('Date')\n",
        "plt.ylabel('Closing price in USD')\n",
        "plt.show()"
      ],
      "execution_count": 28,
      "outputs": [
        {
          "output_type": "display_data",
          "data": {
            "image/png": "[encoded data removed]",
            "text/plain": [
              "<Figure size 1152x576 with 1 Axes>"
            ]
          },
          "metadata": {
            "tags": []
          }
        }
      ]
    },
    {
      "cell_type": "code",
      "metadata": {
        "colab": {
          "base_uri": "https://localhost:8080/"
        },
        "id": "0AQIIOGzMOPm",
        "outputId": "f4d97463-ff24-4c0d-baf4-d4eed899c713"
      },
      "source": [
        "# Create a new dataframe including only closing price\n",
        "data = df.filter(['Close'])\n",
        "#Convert the dataframe into numpy array\n",
        "dataset = data.values\n",
        "# Get the no of rows to train our Model, We use 80% of our data to train the model\n",
        "train_len = math.ceil(len(dataset) * 0.8)\n",
        "train_len"
      ],
      "execution_count": 29,
      "outputs": [
        {
          "output_type": "execute_result",
          "data": {
            "text/plain": [
              "1102"
            ]
          },
          "metadata": {
            "tags": []
          },
          "execution_count": 29
        }
      ]
    },
    {
      "cell_type": "code",
      "metadata": {
        "colab": {
          "base_uri": "https://localhost:8080/"
        },
        "id": "Q6U5OyMCOFcp",
        "outputId": "4b627bce-3c1d-4f3b-b248-027c11e448a1"
      },
      "source": [
        "# Scaling the Data\n",
        "scaler = MinMaxScaler(feature_range=(0, 1))\n",
        "scaled_data = scaler.fit_transform(dataset)\n",
        "\n",
        "scaled_data"
      ],
      "execution_count": 30,
      "outputs": [
        {
          "output_type": "execute_result",
          "data": {
            "text/plain": [
              "array([[0.16938837],\n",
              "       [0.16357605],\n",
              "       [0.15554946],\n",
              "       ...,\n",
              "       [0.42347083],\n",
              "       [0.45862168],\n",
              "       [0.44270691]])"
            ]
          },
          "metadata": {
            "tags": []
          },
          "execution_count": 30
        }
      ]
    },
    {
      "cell_type": "code",
      "metadata": {
        "colab": {
          "base_uri": "https://localhost:8080/"
        },
        "id": "clSC-fSwOz-n",
        "outputId": "2aa40837-ecee-4fcd-b596-4249ede27cd3"
      },
      "source": [
        "# Create the trining Data set\n",
        "train_data = scaled_data[0 : train_len, :]\n",
        "\n",
        "print(len(train_data))"
      ],
      "execution_count": 31,
      "outputs": [
        {
          "output_type": "stream",
          "text": [
            "1102\n"
          ],
          "name": "stdout"
        }
      ]
    },
    {
      "cell_type": "code",
      "metadata": {
        "colab": {
          "base_uri": "https://localhost:8080/"
        },
        "id": "D-nofy6LWK7C",
        "outputId": "c73b9070-6f63-436c-c9b2-b9f5541b422b"
      },
      "source": [
        "# Split the data into x_train and y_train sets\n",
        "x_train = []\n",
        "y_train = []\n",
        "for i in range(90, len(train_data)):\n",
        "  x_train.append(train_data[i-90:i, 0])\n",
        "  y_train.append(train_data[i, 0])\n",
        "  if i <= 91:\n",
        "    print(x_train)\n",
        "    print(y_train)\n",
        "    print()"
      ],
      "execution_count": 32,
      "outputs": [
        {
          "output_type": "stream",
          "text": [
            "[array([0.16938837, 0.16357605, 0.15554946, 0.13133136, 0.12344319,\n",
            "       0.13160809, 0.13617496, 0.11375588, 0.13119294, 0.12911709,\n",
            "       0.11112656, 0.12385834, 0.11500144, 0.12136733, 0.11458629,\n",
            "       0.14447829, 0.11375588, 0.13340722, 0.16606696, 0.14876832,\n",
            "       0.12731806, 0.15015229, 0.15112101, 0.13174651, 0.17672298,\n",
            "       0.1873789 , 0.17561584, 0.15679491, 0.15554946, 0.18862445,\n",
            "       0.18212015, 0.19319132, 0.20204822, 0.22488234, 0.23277062,\n",
            "       0.27663995, 0.26930534, 0.19249933, 0.19803492, 0.20772212,\n",
            "       0.16924995, 0.20564626, 0.19858849, 0.18391917, 0.17589268,\n",
            "       0.17437039, 0.17824527, 0.19720451, 0.19111546, 0.1987268 ,\n",
            "       0.20135623, 0.25823417, 0.26197063, 0.23456964, 0.25781902,\n",
            "       0.22239144, 0.24702468, 0.23733738, 0.25837259, 0.23733738,\n",
            "       0.23041793, 0.23498479, 0.27013564, 0.23069476, 0.23290893,\n",
            "       0.21754773, 0.22931089, 0.22737335, 0.22363689, 0.23858294,\n",
            "       0.25062273, 0.26722948, 0.25560474, 0.2520067 , 0.23899809,\n",
            "       0.24979242, 0.25546643, 0.26612235, 0.28148355, 0.28065325,\n",
            "       0.27816224, 0.27816224, 0.29587603, 0.27816224, 0.26390818,\n",
            "       0.26100191, 0.28452813, 0.29255472, 0.30667037, 0.29836704])]\n",
            "[0.28632714704183104]\n",
            "\n",
            "[array([0.16938837, 0.16357605, 0.15554946, 0.13133136, 0.12344319,\n",
            "       0.13160809, 0.13617496, 0.11375588, 0.13119294, 0.12911709,\n",
            "       0.11112656, 0.12385834, 0.11500144, 0.12136733, 0.11458629,\n",
            "       0.14447829, 0.11375588, 0.13340722, 0.16606696, 0.14876832,\n",
            "       0.12731806, 0.15015229, 0.15112101, 0.13174651, 0.17672298,\n",
            "       0.1873789 , 0.17561584, 0.15679491, 0.15554946, 0.18862445,\n",
            "       0.18212015, 0.19319132, 0.20204822, 0.22488234, 0.23277062,\n",
            "       0.27663995, 0.26930534, 0.19249933, 0.19803492, 0.20772212,\n",
            "       0.16924995, 0.20564626, 0.19858849, 0.18391917, 0.17589268,\n",
            "       0.17437039, 0.17824527, 0.19720451, 0.19111546, 0.1987268 ,\n",
            "       0.20135623, 0.25823417, 0.26197063, 0.23456964, 0.25781902,\n",
            "       0.22239144, 0.24702468, 0.23733738, 0.25837259, 0.23733738,\n",
            "       0.23041793, 0.23498479, 0.27013564, 0.23069476, 0.23290893,\n",
            "       0.21754773, 0.22931089, 0.22737335, 0.22363689, 0.23858294,\n",
            "       0.25062273, 0.26722948, 0.25560474, 0.2520067 , 0.23899809,\n",
            "       0.24979242, 0.25546643, 0.26612235, 0.28148355, 0.28065325,\n",
            "       0.27816224, 0.27816224, 0.29587603, 0.27816224, 0.26390818,\n",
            "       0.26100191, 0.28452813, 0.29255472, 0.30667037, 0.29836704]), array([0.16357605, 0.15554946, 0.13133136, 0.12344319, 0.13160809,\n",
            "       0.13617496, 0.11375588, 0.13119294, 0.12911709, 0.11112656,\n",
            "       0.12385834, 0.11500144, 0.12136733, 0.11458629, 0.14447829,\n",
            "       0.11375588, 0.13340722, 0.16606696, 0.14876832, 0.12731806,\n",
            "       0.15015229, 0.15112101, 0.13174651, 0.17672298, 0.1873789 ,\n",
            "       0.17561584, 0.15679491, 0.15554946, 0.18862445, 0.18212015,\n",
            "       0.19319132, 0.20204822, 0.22488234, 0.23277062, 0.27663995,\n",
            "       0.26930534, 0.19249933, 0.19803492, 0.20772212, 0.16924995,\n",
            "       0.20564626, 0.19858849, 0.18391917, 0.17589268, 0.17437039,\n",
            "       0.17824527, 0.19720451, 0.19111546, 0.1987268 , 0.20135623,\n",
            "       0.25823417, 0.26197063, 0.23456964, 0.25781902, 0.22239144,\n",
            "       0.24702468, 0.23733738, 0.25837259, 0.23733738, 0.23041793,\n",
            "       0.23498479, 0.27013564, 0.23069476, 0.23290893, 0.21754773,\n",
            "       0.22931089, 0.22737335, 0.22363689, 0.23858294, 0.25062273,\n",
            "       0.26722948, 0.25560474, 0.2520067 , 0.23899809, 0.24979242,\n",
            "       0.25546643, 0.26612235, 0.28148355, 0.28065325, 0.27816224,\n",
            "       0.27816224, 0.29587603, 0.27816224, 0.26390818, 0.26100191,\n",
            "       0.28452813, 0.29255472, 0.30667037, 0.29836704, 0.28632715])]\n",
            "[0.28632714704183104, 0.27788540156836505]\n",
            "\n"
          ],
          "name": "stdout"
        }
      ]
    },
    {
      "cell_type": "code",
      "metadata": {
        "id": "9Rc4vVuHXgpY"
      },
      "source": [
        "# Convert the x_train and y_train into numpy array\n",
        "x_train, y_train = np.array(x_train), np.array(y_train)"
      ],
      "execution_count": 33,
      "outputs": []
    },
    {
      "cell_type": "code",
      "metadata": {
        "colab": {
          "base_uri": "https://localhost:8080/"
        },
        "id": "w7spNNnmXy6I",
        "outputId": "f2a3c970-147e-4319-d73c-ae85b5f50abe"
      },
      "source": [
        "# Reshape the data; Reshaping the data is necessary because the LSTM neural network expects 3-dimensional\n",
        "# in the form of no. of samples, no. of time stamps and no. of features\n",
        "# data while our data is still 2 dimensional so we reshape our data to make it 3-D\n",
        "x_train = np.reshape(x_train, (x_train.shape[0], x_train.shape[1], 1))\n",
        "x_train.shape"
      ],
      "execution_count": 34,
      "outputs": [
        {
          "output_type": "execute_result",
          "data": {
            "text/plain": [
              "(1012, 90, 1)"
            ]
          },
          "metadata": {
            "tags": []
          },
          "execution_count": 34
        }
      ]
    },
    {
      "cell_type": "code",
      "metadata": {
        "id": "Yh9HrlNRYzXO"
      },
      "source": [
        "# Build the LSTM Model\n",
        "#Create the object of Sequential\n",
        "model = Sequential()\n",
        "# Add the LSTM with 50 Neurons and return_sequence = True bacause we're going to add another LSTM layer\n",
        "model.add(LSTM(50, return_sequences=True, input_shape = (x_train.shape[1], 1)))\n",
        "model.add(LSTM(50, return_sequences=False))\n",
        "# Add Dense Layer with 25 Neurons\n",
        "model.add(Dense(25))\n",
        "model.add(Dense(1))\n"
      ],
      "execution_count": 35,
      "outputs": []
    },
    {
      "cell_type": "code",
      "metadata": {
        "id": "TjyzbU9obZLE"
      },
      "source": [
        "# Compile the Model\n",
        "model.compile(optimizer='adam', loss='mean_squared_error')"
      ],
      "execution_count": 36,
      "outputs": []
    },
    {
      "cell_type": "code",
      "metadata": {
        "colab": {
          "base_uri": "https://localhost:8080/"
        },
        "id": "aZe0dWjqcGlR",
        "outputId": "9cc9b520-383d-41dd-fb11-292e8fc287c1"
      },
      "source": [
        "# Train the Model\n",
        "model.fit(x_train, y_train, batch_size=1, epochs=1)"
      ],
      "execution_count": 37,
      "outputs": [
        {
          "output_type": "stream",
          "text": [
            "1012/1012 [==============================] - 36s 33ms/step - loss: 0.0111\n"
          ],
          "name": "stdout"
        },
        {
          "output_type": "execute_result",
          "data": {
            "text/plain": [
              "<keras.callbacks.History at 0x7f916de40a90>"
            ]
          },
          "metadata": {
            "tags": []
          },
          "execution_count": 37
        }
      ]
    },
    {
      "cell_type": "code",
      "metadata": {
        "id": "-XVmL8YJco3T"
      },
      "source": [
        "# Create the Testing Dataset\n",
        "# Create the new array containing scaled value from 1012 to 1377(to end)\n",
        "# train_len = 1102 and train_len - 90 = 1012\n",
        "test_data = scaled_data[train_len - 90: , :] \n",
        "# Create the dataset x_test and y_test\n",
        "x_test = []\n",
        "y_test = dataset[train_len : , :]\n",
        "for i in range(90, len(test_data)):\n",
        "  x_test.append(test_data[i - 90: i, 0])"
      ],
      "execution_count": 39,
      "outputs": []
    },
    {
      "cell_type": "code",
      "metadata": {
        "id": "tZCsFzcbhkH3"
      },
      "source": [
        "# Convert the dataset to numpy array\n",
        "x_test = np.array(x_test)\n",
        "# Reshape the data\n",
        "x_test = np.reshape(x_test, (x_test.shape[0], x_test.shape[1], 1))"
      ],
      "execution_count": 40,
      "outputs": []
    },
    {
      "cell_type": "code",
      "metadata": {
        "id": "CseTy8UNiUYB"
      },
      "source": [
        "# Get the Model's predicted price value\n",
        "predictions = model.predict(x_test)\n",
        "predictions = scaler.inverse_transform(predictions)"
      ],
      "execution_count": 41,
      "outputs": []
    },
    {
      "cell_type": "code",
      "metadata": {
        "colab": {
          "base_uri": "https://localhost:8080/"
        },
        "id": "OuxzcpNtiyrA",
        "outputId": "458d3355-e509-4903-a8f8-4b9dc1087589"
      },
      "source": [
        "# Get the Root Mean Squared Error (RMSE)\n",
        "rmse = np.sqrt(np.mean(((predictions- y_test)**2)))\n",
        "\n",
        "rmse"
      ],
      "execution_count": 42,
      "outputs": [
        {
          "output_type": "execute_result",
          "data": {
            "text/plain": [
              "3.8279849304446394"
            ]
          },
          "metadata": {
            "tags": []
          },
          "execution_count": 42
        }
      ]
    },
    {
      "cell_type": "code",
      "metadata": {
        "colab": {
          "base_uri": "https://localhost:8080/"
        },
        "id": "vlwMFq5OjKGe",
        "outputId": "5a8f2755-d459-44ab-f32a-8e767a7313a3"
      },
      "source": [
        "# Plot the Data\n",
        "train = data[ : train_len]\n",
        "valid = data[train_len : ]\n",
        "valid['Predictions'] = predictions"
      ],
      "execution_count": 43,
      "outputs": [
        {
          "output_type": "stream",
          "text": [
            "/usr/local/lib/python3.7/dist-packages/ipykernel_launcher.py:4: SettingWithCopyWarning: \n",
            "A value is trying to be set on a copy of a slice from a DataFrame.\n",
            "Try using .loc[row_indexer,col_indexer] = value instead\n",
            "\n",
            "See the caveats in the documentation: https://pandas.pydata.org/pandas-docs/stable/user_guide/indexing.html#returning-a-view-versus-a-copy\n",
            "  after removing the cwd from sys.path.\n"
          ],
          "name": "stderr"
        }
      ]
    },
    {
      "cell_type": "code",
      "metadata": {
        "colab": {
          "base_uri": "https://localhost:8080/",
          "height": 537
        },
        "id": "f60kMBEBkNoM",
        "outputId": "de7ed412-4fef-4916-85cf-d0db89c7e727"
      },
      "source": [
        "#Visualize the data\n",
        "plt.figure(figsize=(16, 8))\n",
        "plt.title = 'Model'\n",
        "plt.xlabel('Date')\n",
        "plt.ylabel('Close price in USD')\n",
        "plt.plot(train['Close'])\n",
        "plt.plot(valid[['Close', 'Predictions']])\n",
        "plt.legend(['Train', 'Test', 'Prediction'], loc = 'lower right')\n",
        "plt.show()\n"
      ],
      "execution_count": 45,
      "outputs": [
        {
          "output_type": "display_data",
          "data": {
            "image/png": "[encoded data removed]",
            "text/plain": [
              "<Figure size 1152x576 with 1 Axes>"
            ]
          },
          "metadata": {
            "tags": []
          }
        }
      ]
    },
    {
      "cell_type": "code",
      "metadata": {
        "colab": {
          "base_uri": "https://localhost:8080/",
          "height": 1000
        },
        "id": "Lvuj5tewmu5Y",
        "outputId": "ef16b0cb-bf40-4ef3-a748-2d64e604bdd8"
      },
      "source": [
        "valid.tail(30)"
      ],
      "execution_count": 46,
      "outputs": [
        {
          "output_type": "execute_result",
          "data": {
            "text/html": [
              "<div>\n",
              "<style scoped>\n",
              "    .dataframe tbody tr th:only-of-type {\n",
              "        vertical-align: middle;\n",
              "    }\n",
              "\n",
              "    .dataframe tbody tr th {\n",
              "        vertical-align: top;\n",
              "    }\n",
              "\n",
              "    .dataframe thead th {\n",
              "        text-align: right;\n",
              "    }\n",
              "</style>\n",
              "<table border=\"1\" class=\"dataframe\">\n",
              "  <thead>\n",
              "    <tr style=\"text-align: right;\">\n",
              "      <th></th>\n",
              "      <th>Close</th>\n",
              "      <th>Predictions</th>\n",
              "    </tr>\n",
              "    <tr>\n",
              "      <th>Date</th>\n",
              "      <th></th>\n",
              "      <th></th>\n",
              "    </tr>\n",
              "  </thead>\n",
              "  <tbody>\n",
              "    <tr>\n",
              "      <th>2021-05-11</th>\n",
              "      <td>105.010002</td>\n",
              "      <td>106.939674</td>\n",
              "    </tr>\n",
              "    <tr>\n",
              "      <th>2021-05-12</th>\n",
              "      <td>102.669998</td>\n",
              "      <td>107.138115</td>\n",
              "    </tr>\n",
              "    <tr>\n",
              "      <th>2021-05-13</th>\n",
              "      <td>106.500000</td>\n",
              "      <td>107.038918</td>\n",
              "    </tr>\n",
              "    <tr>\n",
              "      <th>2021-05-14</th>\n",
              "      <td>107.889999</td>\n",
              "      <td>107.427574</td>\n",
              "    </tr>\n",
              "    <tr>\n",
              "      <th>2021-05-17</th>\n",
              "      <td>107.110001</td>\n",
              "      <td>108.191254</td>\n",
              "    </tr>\n",
              "    <tr>\n",
              "      <th>2021-05-18</th>\n",
              "      <td>104.760002</td>\n",
              "      <td>108.898544</td>\n",
              "    </tr>\n",
              "    <tr>\n",
              "      <th>2021-05-19</th>\n",
              "      <td>103.480003</td>\n",
              "      <td>109.115036</td>\n",
              "    </tr>\n",
              "    <tr>\n",
              "      <th>2021-05-20</th>\n",
              "      <td>103.239998</td>\n",
              "      <td>108.879135</td>\n",
              "    </tr>\n",
              "    <tr>\n",
              "      <th>2021-05-21</th>\n",
              "      <td>104.410004</td>\n",
              "      <td>108.427383</td>\n",
              "    </tr>\n",
              "    <tr>\n",
              "      <th>2021-05-24</th>\n",
              "      <td>103.209999</td>\n",
              "      <td>108.116501</td>\n",
              "    </tr>\n",
              "    <tr>\n",
              "      <th>2021-05-25</th>\n",
              "      <td>101.019997</td>\n",
              "      <td>107.716904</td>\n",
              "    </tr>\n",
              "    <tr>\n",
              "      <th>2021-05-26</th>\n",
              "      <td>102.570000</td>\n",
              "      <td>106.994659</td>\n",
              "    </tr>\n",
              "    <tr>\n",
              "      <th>2021-05-27</th>\n",
              "      <td>101.870003</td>\n",
              "      <td>106.474754</td>\n",
              "    </tr>\n",
              "    <tr>\n",
              "      <th>2021-05-28</th>\n",
              "      <td>101.419998</td>\n",
              "      <td>106.004387</td>\n",
              "    </tr>\n",
              "    <tr>\n",
              "      <th>2021-06-01</th>\n",
              "      <td>101.550003</td>\n",
              "      <td>105.559151</td>\n",
              "    </tr>\n",
              "    <tr>\n",
              "      <th>2021-06-02</th>\n",
              "      <td>99.089996</td>\n",
              "      <td>105.213226</td>\n",
              "    </tr>\n",
              "    <tr>\n",
              "      <th>2021-06-03</th>\n",
              "      <td>99.699997</td>\n",
              "      <td>104.583244</td>\n",
              "    </tr>\n",
              "    <tr>\n",
              "      <th>2021-06-04</th>\n",
              "      <td>99.089996</td>\n",
              "      <td>104.017273</td>\n",
              "    </tr>\n",
              "    <tr>\n",
              "      <th>2021-06-07</th>\n",
              "      <td>98.070000</td>\n",
              "      <td>103.464485</td>\n",
              "    </tr>\n",
              "    <tr>\n",
              "      <th>2021-06-08</th>\n",
              "      <td>99.959999</td>\n",
              "      <td>102.843742</td>\n",
              "    </tr>\n",
              "    <tr>\n",
              "      <th>2021-06-09</th>\n",
              "      <td>100.040001</td>\n",
              "      <td>102.575806</td>\n",
              "    </tr>\n",
              "    <tr>\n",
              "      <th>2021-06-10</th>\n",
              "      <td>101.000000</td>\n",
              "      <td>102.518730</td>\n",
              "    </tr>\n",
              "    <tr>\n",
              "      <th>2021-06-11</th>\n",
              "      <td>101.570000</td>\n",
              "      <td>102.722687</td>\n",
              "    </tr>\n",
              "    <tr>\n",
              "      <th>2021-06-14</th>\n",
              "      <td>101.449997</td>\n",
              "      <td>103.110992</td>\n",
              "    </tr>\n",
              "    <tr>\n",
              "      <th>2021-06-15</th>\n",
              "      <td>102.589996</td>\n",
              "      <td>103.516502</td>\n",
              "    </tr>\n",
              "    <tr>\n",
              "      <th>2021-06-16</th>\n",
              "      <td>102.620003</td>\n",
              "      <td>104.054306</td>\n",
              "    </tr>\n",
              "    <tr>\n",
              "      <th>2021-06-17</th>\n",
              "      <td>101.000000</td>\n",
              "      <td>104.580757</td>\n",
              "    </tr>\n",
              "    <tr>\n",
              "      <th>2021-06-18</th>\n",
              "      <td>97.690002</td>\n",
              "      <td>104.776978</td>\n",
              "    </tr>\n",
              "    <tr>\n",
              "      <th>2021-06-21</th>\n",
              "      <td>100.230003</td>\n",
              "      <td>104.282700</td>\n",
              "    </tr>\n",
              "    <tr>\n",
              "      <th>2021-06-22</th>\n",
              "      <td>99.080002</td>\n",
              "      <td>103.935654</td>\n",
              "    </tr>\n",
              "  </tbody>\n",
              "</table>\n",
              "</div>"
            ],
            "text/plain": [
              "                 Close  Predictions\n",
              "Date                               \n",
              "2021-05-11  105.010002   106.939674\n",
              "2021-05-12  102.669998   107.138115\n",
              "2021-05-13  106.500000   107.038918\n",
              "2021-05-14  107.889999   107.427574\n",
              "2021-05-17  107.110001   108.191254\n",
              "2021-05-18  104.760002   108.898544\n",
              "2021-05-19  103.480003   109.115036\n",
              "2021-05-20  103.239998   108.879135\n",
              "2021-05-21  104.410004   108.427383\n",
              "2021-05-24  103.209999   108.116501\n",
              "2021-05-25  101.019997   107.716904\n",
              "2021-05-26  102.570000   106.994659\n",
              "2021-05-27  101.870003   106.474754\n",
              "2021-05-28  101.419998   106.004387\n",
              "2021-06-01  101.550003   105.559151\n",
              "2021-06-02   99.089996   105.213226\n",
              "2021-06-03   99.699997   104.583244\n",
              "2021-06-04   99.089996   104.017273\n",
              "2021-06-07   98.070000   103.464485\n",
              "2021-06-08   99.959999   102.843742\n",
              "2021-06-09  100.040001   102.575806\n",
              "2021-06-10  101.000000   102.518730\n",
              "2021-06-11  101.570000   102.722687\n",
              "2021-06-14  101.449997   103.110992\n",
              "2021-06-15  102.589996   103.516502\n",
              "2021-06-16  102.620003   104.054306\n",
              "2021-06-17  101.000000   104.580757\n",
              "2021-06-18   97.690002   104.776978\n",
              "2021-06-21  100.230003   104.282700\n",
              "2021-06-22   99.080002   103.935654"
            ]
          },
          "metadata": {
            "tags": []
          },
          "execution_count": 46
        }
      ]
    },
    {
      "cell_type": "markdown",
      "metadata": {
        "id": "bw7qi9PBaodU"
      },
      "source": [
        ""
      ]
    }
  ]
}